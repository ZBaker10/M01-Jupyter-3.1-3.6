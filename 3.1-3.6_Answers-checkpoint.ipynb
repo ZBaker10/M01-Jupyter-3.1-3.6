{
 "cells": [
  {
   "cell_type": "code",
   "execution_count": null,
   "id": "c65d9774-3b2f-4473-91e1-f5dca9090a0e",
   "metadata": {},
   "outputs": [],
   "source": [
    "seconds_per_hour = 60 * 60\n",
    "#The amount of seconds in a day is 60*60 or 3600\n",
    "seconds_per_day = 24 * seconds_per_hour\n",
    "#The seconds in a day is 24*3600 or 86400\n",
    "seconds_per_day / seconds_per_hour\n",
    "seconds_per_day // seconds_per_hour"
   ]
  }
 ],
 "metadata": {
  "kernelspec": {
   "display_name": "Python 3 (ipykernel)",
   "language": "python",
   "name": "python3"
  },
  "language_info": {
   "codemirror_mode": {
    "name": "ipython",
    "version": 3
   },
   "file_extension": ".py",
   "mimetype": "text/x-python",
   "name": "python",
   "nbconvert_exporter": "python",
   "pygments_lexer": "ipython3",
   "version": "3.12.4"
  }
 },
 "nbformat": 4,
 "nbformat_minor": 5
}
